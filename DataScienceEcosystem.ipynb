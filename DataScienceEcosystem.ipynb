{
 "cells": [
  {
   "cell_type": "markdown",
   "id": "f4d073ce-ccb9-4ea6-8ec2-5d34cb251b0e",
   "metadata": {},
   "source": [
    "# DataScienceEcosystem.ipynb"
   ]
  },
  {
   "cell_type": "markdown",
   "id": "996bc732-3ebb-4d91-bef4-0d0b40cbb3ec",
   "metadata": {},
   "source": [
    "# Инструменты и экосистема Data Science"
   ]
  },
  {
   "cell_type": "markdown",
   "id": "a2a27f7a-71ca-43f6-ae0d-30b5cda3418e",
   "metadata": {},
   "source": [
    "## В этом блокноте представлены инструменты и экосистема Data Science."
   ]
  },
  {
   "cell_type": "markdown",
   "id": "371adf1d-660b-4fa2-b0b2-fde0416d61c5",
   "metadata": {},
   "source": [
    "## Цели:\n",
    "- Перечислить популярные языки для Data Science\n",
    "- Перечислить популярные библиотеки для Data Science\n",
    "- Перечислить популярные инструменты для Data Science\n",
    "- Произвести элементарные арифметические расчеты"
   ]
  },
  {
   "cell_type": "markdown",
   "id": "c9efb624-c44a-4e93-9925-1623e04fb932",
   "metadata": {},
   "source": [
    "## Некоторые из популярных языков, которые используют специалисты по Data Science:\n",
    "1. Python\n",
    "2. R\n",
    "3. Java"
   ]
  },
  {
   "cell_type": "markdown",
   "id": "4d52b5df-820a-4cc7-a455-89049ad728f1",
   "metadata": {},
   "source": [
    "## Некоторые из часто используемых библиотек, которые используют специалисты по Data Science, включают:\n",
    "1. Pandas\n",
    "2. NumPy\n",
    "3. Matplotlib"
   ]
  },
  {
   "cell_type": "markdown",
   "id": "76a2425f-a592-4c36-9ef4-1e723ef29344",
   "metadata": {},
   "source": [
    "| Инструменты Data Science |\n",
    "| ----------- |\n",
    "| Jupyter Notebook  |\n",
    "| Jupyter Lab   |\n",
    "| Numba  |"
   ]
  },
  {
   "cell_type": "markdown",
   "id": "5701509e-301a-4104-8914-f575fc5c3c95",
   "metadata": {},
   "source": [
    "### Ниже приведены несколько примеров оценки арифметических выражений в Python"
   ]
  },
  {
   "cell_type": "code",
   "execution_count": 6,
   "id": "bd342c15-53c6-44cb-b006-20fb4b8d8d90",
   "metadata": {},
   "outputs": [],
   "source": [
    "# Это простое арифметическое выражение для умножения, а затем сложения целых чисел"
   ]
  },
  {
   "cell_type": "code",
   "execution_count": 5,
   "id": "60360f41-887c-43bd-a8cb-ae36a67bae5e",
   "metadata": {},
   "outputs": [
    {
     "name": "stdout",
     "output_type": "stream",
     "text": [
      "17\n"
     ]
    }
   ],
   "source": [
    "print((3*4)+5)"
   ]
  },
  {
   "cell_type": "code",
   "execution_count": 7,
   "id": "54ad0511-ae9a-4944-be2c-6d450ba2418f",
   "metadata": {},
   "outputs": [],
   "source": [
    "# Это преобразует 200 минут в часы, деля на 60"
   ]
  },
  {
   "cell_type": "code",
   "execution_count": 8,
   "id": "d5d43423-41d4-4455-8196-4d42eb71a0b0",
   "metadata": {},
   "outputs": [
    {
     "name": "stdout",
     "output_type": "stream",
     "text": [
      "3\n"
     ]
    }
   ],
   "source": [
    "print(int(200/60))"
   ]
  },
  {
   "cell_type": "markdown",
   "id": "5a4f2aed-5a04-477c-b1ad-4cee536fec47",
   "metadata": {},
   "source": [
    "## Автор"
   ]
  },
  {
   "cell_type": "markdown",
   "id": "58fd812d-f2e3-40a5-bd17-02c60a477ec0",
   "metadata": {},
   "source": [
    "###### Synogub Dmytro"
   ]
  },
  {
   "cell_type": "code",
   "execution_count": null,
   "id": "1a8a9e14-c70c-4aa9-a9f2-6ad59c5353bc",
   "metadata": {},
   "outputs": [],
   "source": []
  }
 ],
 "metadata": {
  "kernelspec": {
   "display_name": "Python 3 (ipykernel)",
   "language": "python",
   "name": "python3"
  },
  "language_info": {
   "codemirror_mode": {
    "name": "ipython",
    "version": 3
   },
   "file_extension": ".py",
   "mimetype": "text/x-python",
   "name": "python",
   "nbconvert_exporter": "python",
   "pygments_lexer": "ipython3",
   "version": "3.10.8"
  }
 },
 "nbformat": 4,
 "nbformat_minor": 5
}
